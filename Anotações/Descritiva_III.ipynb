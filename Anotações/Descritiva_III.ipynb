{
 "cells": [
  {
   "cell_type": "markdown",
   "id": "46564dcf-1551-47c4-ac09-6e71fc120170",
   "metadata": {},
   "source": [
    "# Séries Temporais com Plotly"
   ]
  },
  {
   "cell_type": "markdown",
   "id": "afbc4aa1-624e-4641-bd99-2da254bc6473",
   "metadata": {},
   "source": [
    "## Imports"
   ]
  },
  {
   "cell_type": "code",
   "execution_count": 32,
   "id": "aa3ffad3-2822-48a8-a465-851c05d17804",
   "metadata": {},
   "outputs": [],
   "source": [
    "from pandas_datareader import data as web\n",
    "import yfinance as yf\n",
    "\n",
    "import plotly.express as px\n",
    "from plotly import graph_objects\n",
    "\n",
    "import pandas as pd\n",
    "import numpy as np"
   ]
  },
  {
   "cell_type": "markdown",
   "id": "fc62148c-8c63-4a6f-b8ad-b4a943b86649",
   "metadata": {},
   "source": [
    "## Dataframe com Pandas Reader"
   ]
  },
  {
   "cell_type": "markdown",
   "id": "71de3cd8-29e6-4660-bbca-56674def35fe",
   "metadata": {},
   "source": [
    "Vamos utilizar a função ```DataReader()``` do pacote ```pandas_datareader```. Essa função já está preparada para estabelecer contato com algumas fontes e solicitar conjuntos de dados. Vamos nos conectar ao Yahoo Finance, e solicitar dados de ações ou de índices. Cada uma dessas coisas estão armazenados em um conjunto de dados. Índices no Yahoo Finance estão em conjuntos de dados cujo nome começa com um circunflexo (```^```) como o IBOVESPA (```^BVSP```) e ações **brasileiras** o nome termina com ```.SA``` como ```PETR4.SA```.\n",
    "\n",
    "Parâmetros:\n",
    "\n",
    "- **name** - um string com o nome do conjunto de dados - um ativo ou índice no nosso caso\n",
    "- **data_source** - o nome da fonte dos dados\n",
    "- **start** - a data inicial da solicitação\n",
    "- **end** - a data final da solicitação (se vazio, faz um *slicing* até a data mais recente)"
   ]
  },
  {
   "cell_type": "markdown",
   "id": "b085bce1-6a77-4a7a-a8d4-3d1d00fbfc8d",
   "metadata": {},
   "source": [
    "#### Extraindo dados IBOVESPA"
   ]
  },
  {
   "cell_type": "code",
   "execution_count": 39,
   "id": "8ab92275-bcf9-4d25-811f-3115a1a333e0",
   "metadata": {},
   "outputs": [
    {
     "name": "stderr",
     "output_type": "stream",
     "text": [
      "[*********************100%%**********************]  1 of 1 completed"
     ]
    },
    {
     "name": "stdout",
     "output_type": "stream",
     "text": [
      "CPU times: total: 15.6 ms\n",
      "Wall time: 657 ms\n"
     ]
    },
    {
     "name": "stderr",
     "output_type": "stream",
     "text": [
      "\n"
     ]
    },
    {
     "data": {
      "text/html": [
       "<div>\n",
       "<style scoped>\n",
       "    .dataframe tbody tr th:only-of-type {\n",
       "        vertical-align: middle;\n",
       "    }\n",
       "\n",
       "    .dataframe tbody tr th {\n",
       "        vertical-align: top;\n",
       "    }\n",
       "\n",
       "    .dataframe thead th {\n",
       "        text-align: right;\n",
       "    }\n",
       "</style>\n",
       "<table border=\"1\" class=\"dataframe\">\n",
       "  <thead>\n",
       "    <tr style=\"text-align: right;\">\n",
       "      <th></th>\n",
       "      <th>Open</th>\n",
       "      <th>High</th>\n",
       "      <th>Low</th>\n",
       "      <th>Close</th>\n",
       "      <th>Adj Close</th>\n",
       "      <th>Volume</th>\n",
       "    </tr>\n",
       "    <tr>\n",
       "      <th>Date</th>\n",
       "      <th></th>\n",
       "      <th></th>\n",
       "      <th></th>\n",
       "      <th></th>\n",
       "      <th></th>\n",
       "      <th></th>\n",
       "    </tr>\n",
       "  </thead>\n",
       "  <tbody>\n",
       "    <tr>\n",
       "      <th>2016-01-04</th>\n",
       "      <td>43349.0</td>\n",
       "      <td>43349.0</td>\n",
       "      <td>42125.0</td>\n",
       "      <td>42141.0</td>\n",
       "      <td>42141.0</td>\n",
       "      <td>2976300</td>\n",
       "    </tr>\n",
       "    <tr>\n",
       "      <th>2016-01-05</th>\n",
       "      <td>42139.0</td>\n",
       "      <td>42534.0</td>\n",
       "      <td>42137.0</td>\n",
       "      <td>42419.0</td>\n",
       "      <td>42419.0</td>\n",
       "      <td>2557200</td>\n",
       "    </tr>\n",
       "    <tr>\n",
       "      <th>2016-01-06</th>\n",
       "      <td>42410.0</td>\n",
       "      <td>42410.0</td>\n",
       "      <td>41590.0</td>\n",
       "      <td>41773.0</td>\n",
       "      <td>41773.0</td>\n",
       "      <td>3935900</td>\n",
       "    </tr>\n",
       "    <tr>\n",
       "      <th>2016-01-07</th>\n",
       "      <td>41772.0</td>\n",
       "      <td>41772.0</td>\n",
       "      <td>40695.0</td>\n",
       "      <td>40695.0</td>\n",
       "      <td>40695.0</td>\n",
       "      <td>4032300</td>\n",
       "    </tr>\n",
       "    <tr>\n",
       "      <th>2016-01-08</th>\n",
       "      <td>40695.0</td>\n",
       "      <td>41218.0</td>\n",
       "      <td>40463.0</td>\n",
       "      <td>40612.0</td>\n",
       "      <td>40612.0</td>\n",
       "      <td>3221600</td>\n",
       "    </tr>\n",
       "  </tbody>\n",
       "</table>\n",
       "</div>"
      ],
      "text/plain": [
       "               Open     High      Low    Close  Adj Close   Volume\n",
       "Date                                                              \n",
       "2016-01-04  43349.0  43349.0  42125.0  42141.0    42141.0  2976300\n",
       "2016-01-05  42139.0  42534.0  42137.0  42419.0    42419.0  2557200\n",
       "2016-01-06  42410.0  42410.0  41590.0  41773.0    41773.0  3935900\n",
       "2016-01-07  41772.0  41772.0  40695.0  40695.0    40695.0  4032300\n",
       "2016-01-08  40695.0  41218.0  40463.0  40612.0    40612.0  3221600"
      ]
     },
     "execution_count": 39,
     "metadata": {},
     "output_type": "execute_result"
    }
   ],
   "source": [
    "%%time \n",
    "ativos = '^BVSP'\n",
    "dt_ini, dt_fim = '2016-01-01', datetime.now()\n",
    "\n",
    "#Lib data-reader com incompatibilidade então usar o comando abaixo:\n",
    "df_ibovespa = yf.download('^BVSP', start=dt_ini, end=dt_fim) \n",
    "df_ibovespa.head()"
   ]
  },
  {
   "cell_type": "markdown",
   "id": "f79d0cfd-d643-49f8-a94f-4b488cbd763b",
   "metadata": {},
   "source": [
    "#### Extraindo dados Conjunto"
   ]
  },
  {
   "cell_type": "markdown",
   "id": "618bce94-444f-42eb-91bd-db7b3a576a2b",
   "metadata": {},
   "source": [
    "Podemos também usar a função ```get_data_yahoo```, que faz o mesmo, mas não precisamos mais indicar a fonte. \n",
    "\n",
    "Se não indicarmos a data de fim, a função traz os dados até a data mais recente.\n",
    "\n",
    "No caso do Yahoo Finance, podemos colocar um alista de nomes no parâmetro *name*. Vamos testar com algumas das principais ações brasileiras. Olha como fica:"
   ]
  },
  {
   "cell_type": "code",
   "execution_count": 44,
   "id": "09b7c23c-a0cd-41bb-b47e-de8e6d55dd41",
   "metadata": {},
   "outputs": [
    {
     "name": "stderr",
     "output_type": "stream",
     "text": [
      "[*********************100%%**********************]  5 of 5 completed"
     ]
    },
    {
     "name": "stdout",
     "output_type": "stream",
     "text": [
      "CPU times: total: 125 ms\n",
      "Wall time: 713 ms\n"
     ]
    },
    {
     "name": "stderr",
     "output_type": "stream",
     "text": [
      "\n"
     ]
    },
    {
     "data": {
      "text/html": [
       "<div>\n",
       "<style scoped>\n",
       "    .dataframe tbody tr th:only-of-type {\n",
       "        vertical-align: middle;\n",
       "    }\n",
       "\n",
       "    .dataframe tbody tr th {\n",
       "        vertical-align: top;\n",
       "    }\n",
       "\n",
       "    .dataframe thead tr th {\n",
       "        text-align: left;\n",
       "    }\n",
       "\n",
       "    .dataframe thead tr:last-of-type th {\n",
       "        text-align: right;\n",
       "    }\n",
       "</style>\n",
       "<table border=\"1\" class=\"dataframe\">\n",
       "  <thead>\n",
       "    <tr>\n",
       "      <th>Price</th>\n",
       "      <th colspan=\"5\" halign=\"left\">Adj Close</th>\n",
       "      <th colspan=\"5\" halign=\"left\">Close</th>\n",
       "      <th>...</th>\n",
       "      <th colspan=\"5\" halign=\"left\">Open</th>\n",
       "      <th colspan=\"5\" halign=\"left\">Volume</th>\n",
       "    </tr>\n",
       "    <tr>\n",
       "      <th>Ticker</th>\n",
       "      <th>ABEV3.SA</th>\n",
       "      <th>ITUB3.SA</th>\n",
       "      <th>PETR4.SA</th>\n",
       "      <th>VALE3.SA</th>\n",
       "      <th>^BVSP</th>\n",
       "      <th>ABEV3.SA</th>\n",
       "      <th>ITUB3.SA</th>\n",
       "      <th>PETR4.SA</th>\n",
       "      <th>VALE3.SA</th>\n",
       "      <th>^BVSP</th>\n",
       "      <th>...</th>\n",
       "      <th>ABEV3.SA</th>\n",
       "      <th>ITUB3.SA</th>\n",
       "      <th>PETR4.SA</th>\n",
       "      <th>VALE3.SA</th>\n",
       "      <th>^BVSP</th>\n",
       "      <th>ABEV3.SA</th>\n",
       "      <th>ITUB3.SA</th>\n",
       "      <th>PETR4.SA</th>\n",
       "      <th>VALE3.SA</th>\n",
       "      <th>^BVSP</th>\n",
       "    </tr>\n",
       "    <tr>\n",
       "      <th>Date</th>\n",
       "      <th></th>\n",
       "      <th></th>\n",
       "      <th></th>\n",
       "      <th></th>\n",
       "      <th></th>\n",
       "      <th></th>\n",
       "      <th></th>\n",
       "      <th></th>\n",
       "      <th></th>\n",
       "      <th></th>\n",
       "      <th></th>\n",
       "      <th></th>\n",
       "      <th></th>\n",
       "      <th></th>\n",
       "      <th></th>\n",
       "      <th></th>\n",
       "      <th></th>\n",
       "      <th></th>\n",
       "      <th></th>\n",
       "      <th></th>\n",
       "      <th></th>\n",
       "    </tr>\n",
       "  </thead>\n",
       "  <tbody>\n",
       "    <tr>\n",
       "      <th>2016-01-04</th>\n",
       "      <td>12.837883</td>\n",
       "      <td>9.017251</td>\n",
       "      <td>2.504270</td>\n",
       "      <td>7.919021</td>\n",
       "      <td>42141.0</td>\n",
       "      <td>17.209999</td>\n",
       "      <td>14.000000</td>\n",
       "      <td>6.87</td>\n",
       "      <td>12.69</td>\n",
       "      <td>42141.0</td>\n",
       "      <td>...</td>\n",
       "      <td>17.730000</td>\n",
       "      <td>14.769696</td>\n",
       "      <td>6.57</td>\n",
       "      <td>12.49</td>\n",
       "      <td>43349.0</td>\n",
       "      <td>13206900</td>\n",
       "      <td>278520</td>\n",
       "      <td>45962100</td>\n",
       "      <td>4587900</td>\n",
       "      <td>2976300.0</td>\n",
       "    </tr>\n",
       "    <tr>\n",
       "      <th>2016-01-05</th>\n",
       "      <td>13.039292</td>\n",
       "      <td>9.208522</td>\n",
       "      <td>2.435011</td>\n",
       "      <td>7.812937</td>\n",
       "      <td>42419.0</td>\n",
       "      <td>17.480000</td>\n",
       "      <td>14.296969</td>\n",
       "      <td>6.68</td>\n",
       "      <td>12.52</td>\n",
       "      <td>42419.0</td>\n",
       "      <td>...</td>\n",
       "      <td>17.250000</td>\n",
       "      <td>14.212121</td>\n",
       "      <td>6.92</td>\n",
       "      <td>12.67</td>\n",
       "      <td>42139.0</td>\n",
       "      <td>10774200</td>\n",
       "      <td>99825</td>\n",
       "      <td>29446700</td>\n",
       "      <td>2693500</td>\n",
       "      <td>2557200.0</td>\n",
       "    </tr>\n",
       "    <tr>\n",
       "      <th>2016-01-06</th>\n",
       "      <td>12.912477</td>\n",
       "      <td>9.153873</td>\n",
       "      <td>2.332945</td>\n",
       "      <td>7.238822</td>\n",
       "      <td>41773.0</td>\n",
       "      <td>17.309999</td>\n",
       "      <td>14.212121</td>\n",
       "      <td>6.40</td>\n",
       "      <td>11.60</td>\n",
       "      <td>41773.0</td>\n",
       "      <td>...</td>\n",
       "      <td>17.360001</td>\n",
       "      <td>14.236363</td>\n",
       "      <td>6.53</td>\n",
       "      <td>12.08</td>\n",
       "      <td>42410.0</td>\n",
       "      <td>7739100</td>\n",
       "      <td>181995</td>\n",
       "      <td>67507200</td>\n",
       "      <td>6758900</td>\n",
       "      <td>3935900.0</td>\n",
       "    </tr>\n",
       "    <tr>\n",
       "      <th>2016-01-07</th>\n",
       "      <td>12.569341</td>\n",
       "      <td>9.044572</td>\n",
       "      <td>2.281912</td>\n",
       "      <td>6.808238</td>\n",
       "      <td>40695.0</td>\n",
       "      <td>16.850000</td>\n",
       "      <td>14.042424</td>\n",
       "      <td>6.26</td>\n",
       "      <td>10.91</td>\n",
       "      <td>40695.0</td>\n",
       "      <td>...</td>\n",
       "      <td>17.170000</td>\n",
       "      <td>14.036363</td>\n",
       "      <td>6.19</td>\n",
       "      <td>11.26</td>\n",
       "      <td>41772.0</td>\n",
       "      <td>15316400</td>\n",
       "      <td>221925</td>\n",
       "      <td>57387900</td>\n",
       "      <td>6450400</td>\n",
       "      <td>4032300.0</td>\n",
       "    </tr>\n",
       "    <tr>\n",
       "      <th>2016-01-08</th>\n",
       "      <td>12.733450</td>\n",
       "      <td>9.185097</td>\n",
       "      <td>2.285557</td>\n",
       "      <td>6.577343</td>\n",
       "      <td>40612.0</td>\n",
       "      <td>17.070000</td>\n",
       "      <td>14.260606</td>\n",
       "      <td>6.27</td>\n",
       "      <td>10.54</td>\n",
       "      <td>40612.0</td>\n",
       "      <td>...</td>\n",
       "      <td>16.930000</td>\n",
       "      <td>14.175757</td>\n",
       "      <td>6.38</td>\n",
       "      <td>11.07</td>\n",
       "      <td>40695.0</td>\n",
       "      <td>10684000</td>\n",
       "      <td>122100</td>\n",
       "      <td>52100300</td>\n",
       "      <td>4429400</td>\n",
       "      <td>3221600.0</td>\n",
       "    </tr>\n",
       "  </tbody>\n",
       "</table>\n",
       "<p>5 rows × 30 columns</p>\n",
       "</div>"
      ],
      "text/plain": [
       "Price       Adj Close                                             Close  \\\n",
       "Ticker       ABEV3.SA  ITUB3.SA  PETR4.SA  VALE3.SA    ^BVSP   ABEV3.SA   \n",
       "Date                                                                      \n",
       "2016-01-04  12.837883  9.017251  2.504270  7.919021  42141.0  17.209999   \n",
       "2016-01-05  13.039292  9.208522  2.435011  7.812937  42419.0  17.480000   \n",
       "2016-01-06  12.912477  9.153873  2.332945  7.238822  41773.0  17.309999   \n",
       "2016-01-07  12.569341  9.044572  2.281912  6.808238  40695.0  16.850000   \n",
       "2016-01-08  12.733450  9.185097  2.285557  6.577343  40612.0  17.070000   \n",
       "\n",
       "Price                                             ...       Open             \\\n",
       "Ticker       ITUB3.SA PETR4.SA VALE3.SA    ^BVSP  ...   ABEV3.SA   ITUB3.SA   \n",
       "Date                                              ...                         \n",
       "2016-01-04  14.000000     6.87    12.69  42141.0  ...  17.730000  14.769696   \n",
       "2016-01-05  14.296969     6.68    12.52  42419.0  ...  17.250000  14.212121   \n",
       "2016-01-06  14.212121     6.40    11.60  41773.0  ...  17.360001  14.236363   \n",
       "2016-01-07  14.042424     6.26    10.91  40695.0  ...  17.170000  14.036363   \n",
       "2016-01-08  14.260606     6.27    10.54  40612.0  ...  16.930000  14.175757   \n",
       "\n",
       "Price                                    Volume                              \\\n",
       "Ticker     PETR4.SA VALE3.SA    ^BVSP  ABEV3.SA ITUB3.SA  PETR4.SA VALE3.SA   \n",
       "Date                                                                          \n",
       "2016-01-04     6.57    12.49  43349.0  13206900   278520  45962100  4587900   \n",
       "2016-01-05     6.92    12.67  42139.0  10774200    99825  29446700  2693500   \n",
       "2016-01-06     6.53    12.08  42410.0   7739100   181995  67507200  6758900   \n",
       "2016-01-07     6.19    11.26  41772.0  15316400   221925  57387900  6450400   \n",
       "2016-01-08     6.38    11.07  40695.0  10684000   122100  52100300  4429400   \n",
       "\n",
       "Price                  \n",
       "Ticker          ^BVSP  \n",
       "Date                   \n",
       "2016-01-04  2976300.0  \n",
       "2016-01-05  2557200.0  \n",
       "2016-01-06  3935900.0  \n",
       "2016-01-07  4032300.0  \n",
       "2016-01-08  3221600.0  \n",
       "\n",
       "[5 rows x 30 columns]"
      ]
     },
     "execution_count": 44,
     "metadata": {},
     "output_type": "execute_result"
    }
   ],
   "source": [
    "%%time\n",
    "ativos = ['^BVSP', 'ITUB3.SA', 'PETR4.SA', 'ABEV3.SA', 'VALE3.SA']\n",
    "dt_ini = '2016-01-01'\n",
    "\n",
    "yf = web.get_data_yahoo(ativos, start=dt_ini)\n",
    "yf.head()"
   ]
  },
  {
   "cell_type": "code",
   "execution_count": 45,
   "id": "985a75c7-3ff3-478e-a068-d11e99a4fe49",
   "metadata": {},
   "outputs": [
    {
     "data": {
      "text/plain": [
       "(2025, 30)"
      ]
     },
     "execution_count": 45,
     "metadata": {},
     "output_type": "execute_result"
    }
   ],
   "source": [
    "yf.shape"
   ]
  },
  {
   "cell_type": "markdown",
   "id": "38c1ec63-095d-4594-9de9-df5a4fccf8ef",
   "metadata": {},
   "source": [
    "* As colunas são tuplas:"
   ]
  },
  {
   "cell_type": "code",
   "execution_count": 46,
   "id": "9130ce6e-17fc-4dce-8d54-45b8521569d5",
   "metadata": {},
   "outputs": [
    {
     "name": "stdout",
     "output_type": "stream",
     "text": [
      "<class 'pandas.core.frame.DataFrame'>\n",
      "DatetimeIndex: 2025 entries, 2016-01-04 to 2024-02-21\n",
      "Data columns (total 30 columns):\n",
      " #   Column                 Non-Null Count  Dtype  \n",
      "---  ------                 --------------  -----  \n",
      " 0   (Adj Close, ABEV3.SA)  2025 non-null   float64\n",
      " 1   (Adj Close, ITUB3.SA)  2025 non-null   float64\n",
      " 2   (Adj Close, PETR4.SA)  2025 non-null   float64\n",
      " 3   (Adj Close, VALE3.SA)  2025 non-null   float64\n",
      " 4   (Adj Close, ^BVSP)     2017 non-null   float64\n",
      " 5   (Close, ABEV3.SA)      2025 non-null   float64\n",
      " 6   (Close, ITUB3.SA)      2025 non-null   float64\n",
      " 7   (Close, PETR4.SA)      2025 non-null   float64\n",
      " 8   (Close, VALE3.SA)      2025 non-null   float64\n",
      " 9   (Close, ^BVSP)         2017 non-null   float64\n",
      " 10  (High, ABEV3.SA)       2025 non-null   float64\n",
      " 11  (High, ITUB3.SA)       2025 non-null   float64\n",
      " 12  (High, PETR4.SA)       2025 non-null   float64\n",
      " 13  (High, VALE3.SA)       2025 non-null   float64\n",
      " 14  (High, ^BVSP)          2017 non-null   float64\n",
      " 15  (Low, ABEV3.SA)        2025 non-null   float64\n",
      " 16  (Low, ITUB3.SA)        2025 non-null   float64\n",
      " 17  (Low, PETR4.SA)        2025 non-null   float64\n",
      " 18  (Low, VALE3.SA)        2025 non-null   float64\n",
      " 19  (Low, ^BVSP)           2017 non-null   float64\n",
      " 20  (Open, ABEV3.SA)       2025 non-null   float64\n",
      " 21  (Open, ITUB3.SA)       2025 non-null   float64\n",
      " 22  (Open, PETR4.SA)       2025 non-null   float64\n",
      " 23  (Open, VALE3.SA)       2025 non-null   float64\n",
      " 24  (Open, ^BVSP)          2017 non-null   float64\n",
      " 25  (Volume, ABEV3.SA)     2025 non-null   int64  \n",
      " 26  (Volume, ITUB3.SA)     2025 non-null   int64  \n",
      " 27  (Volume, PETR4.SA)     2025 non-null   int64  \n",
      " 28  (Volume, VALE3.SA)     2025 non-null   int64  \n",
      " 29  (Volume, ^BVSP)        2017 non-null   float64\n",
      "dtypes: float64(26), int64(4)\n",
      "memory usage: 490.4 KB\n"
     ]
    }
   ],
   "source": [
    "yf.info()"
   ]
  },
  {
   "cell_type": "code",
   "execution_count": 47,
   "id": "90cec4a8-413d-4602-9569-1d0b1e8602b9",
   "metadata": {},
   "outputs": [
    {
     "data": {
      "text/plain": [
       "Price      Ticker  \n",
       "Adj Close  ABEV3.SA    0\n",
       "           ITUB3.SA    0\n",
       "           PETR4.SA    0\n",
       "           VALE3.SA    0\n",
       "           ^BVSP       8\n",
       "Close      ABEV3.SA    0\n",
       "           ITUB3.SA    0\n",
       "           PETR4.SA    0\n",
       "           VALE3.SA    0\n",
       "           ^BVSP       8\n",
       "High       ABEV3.SA    0\n",
       "           ITUB3.SA    0\n",
       "           PETR4.SA    0\n",
       "           VALE3.SA    0\n",
       "           ^BVSP       8\n",
       "Low        ABEV3.SA    0\n",
       "           ITUB3.SA    0\n",
       "           PETR4.SA    0\n",
       "           VALE3.SA    0\n",
       "           ^BVSP       8\n",
       "Open       ABEV3.SA    0\n",
       "           ITUB3.SA    0\n",
       "           PETR4.SA    0\n",
       "           VALE3.SA    0\n",
       "           ^BVSP       8\n",
       "Volume     ABEV3.SA    0\n",
       "           ITUB3.SA    0\n",
       "           PETR4.SA    0\n",
       "           VALE3.SA    0\n",
       "           ^BVSP       8\n",
       "dtype: int64"
      ]
     },
     "execution_count": 47,
     "metadata": {},
     "output_type": "execute_result"
    }
   ],
   "source": [
    "yf.isna().sum()"
   ]
  },
  {
   "cell_type": "code",
   "execution_count": null,
   "id": "f6dd478a-3feb-4145-9a39-116720a221ba",
   "metadata": {},
   "outputs": [],
   "source": []
  }
 ],
 "metadata": {
  "kernelspec": {
   "display_name": "Python 3 (ipykernel)",
   "language": "python",
   "name": "python3"
  },
  "language_info": {
   "codemirror_mode": {
    "name": "ipython",
    "version": 3
   },
   "file_extension": ".py",
   "mimetype": "text/x-python",
   "name": "python",
   "nbconvert_exporter": "python",
   "pygments_lexer": "ipython3",
   "version": "3.11.5"
  }
 },
 "nbformat": 4,
 "nbformat_minor": 5
}
